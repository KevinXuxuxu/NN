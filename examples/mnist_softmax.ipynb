{
 "cells": [
  {
   "cell_type": "code",
   "execution_count": 1,
   "metadata": {},
   "outputs": [],
   "source": [
    "import torch\n",
    "import torchvision\n",
    "\n",
    "batch_size_train = 64\n",
    "batch_size_test = 1000\n",
    "\n",
    "# copied from some random place to load MNIST data\n",
    "train_loader = torch.utils.data.DataLoader(\n",
    "    torchvision.datasets.MNIST('../files/', train=True, download=True,\n",
    "                               transform=torchvision.transforms.Compose([\n",
    "                                   torchvision.transforms.ToTensor(),\n",
    "                                   torchvision.transforms.Normalize(\n",
    "                                       (0.1307,), (0.3081,))\n",
    "                               ])),\n",
    "    batch_size=batch_size_train, shuffle=True)\n",
    "\n",
    "test_loader = torch.utils.data.DataLoader(\n",
    "    torchvision.datasets.MNIST('../files/', train=False, download=True,\n",
    "                               transform=torchvision.transforms.Compose([\n",
    "                                   torchvision.transforms.ToTensor(),\n",
    "                                   torchvision.transforms.Normalize(\n",
    "                                       (0.1307,), (0.3081,))\n",
    "                               ])),\n",
    "    batch_size=batch_size_test, shuffle=True)"
   ]
  },
  {
   "cell_type": "code",
   "execution_count": 2,
   "metadata": {},
   "outputs": [
    {
     "name": "stdout",
     "output_type": "stream",
     "text": [
      "CPU times: user 11.9 s, sys: 86.7 ms, total: 12 s\n",
      "Wall time: 12 s\n"
     ]
    }
   ],
   "source": [
    "%%time\n",
    "# filter out 4, 9 data points and form train/test set\n",
    "test_raw = [\n",
    "    (data[i][0].numpy(), targets[i].numpy())\n",
    "    for data, targets in test_loader\n",
    "    for i in range(data.shape[0])\n",
    "    if targets[i] in [4, 9]\n",
    "]\n",
    "train_raw = [\n",
    "    (data[i][0].numpy(), targets[i].numpy())\n",
    "    for data, targets in train_loader\n",
    "    for i in range(data.shape[0])\n",
    "    if targets[i] in [4, 9]\n",
    "]"
   ]
  },
  {
   "cell_type": "code",
   "execution_count": 3,
   "metadata": {},
   "outputs": [],
   "source": [
    "from matplotlib import pyplot as plt\n",
    "import numpy as np"
   ]
  },
  {
   "cell_type": "code",
   "execution_count": 4,
   "metadata": {},
   "outputs": [],
   "source": [
    "# preprocess training data into batch\n",
    "train_x = [\n",
    "    x.reshape((batch_size_train, 28*28))  # reshape to flat\n",
    "    for x in [\n",
    "        np.array([x for x, _ in train_raw[i:i+batch_size_train]])\n",
    "        for i in range(0, len(train_raw), batch_size_train)\n",
    "    ][:-1]  # drop last bit of data points \n",
    "]\n",
    "train_y = [\n",
    "    np.array([y for _, y in train_raw[i:i+batch_size_train]])\n",
    "    for i in range(0, len(train_raw), batch_size_train)\n",
    "][:-1]\n",
    "\n",
    "# one hot encoding for training ground truth\n",
    "train_y_1hot = [np.zeros((batch_size_train, 2)) for _ in train_y]\n",
    "for i, y in enumerate(train_y):\n",
    "    train_y_1hot[i][np.arange(batch_size_train),(y==9).astype('int')] = 1"
   ]
  },
  {
   "cell_type": "code",
   "execution_count": 5,
   "metadata": {},
   "outputs": [],
   "source": [
    "# preprocess test set to get accuracy\n",
    "test_x = np.array([x for x, _ in test_raw]).reshape((len(test_raw), 28*28))\n",
    "test_y = np.array([1 if y == 4 else 0 for _, y in test_raw])\n",
    "\n",
    "def get_accuracy(model):\n",
    "    result = model.inference(test_x.transpose())\n",
    "    # this is some crazy shit ...\n",
    "    return ((result[0] > result[1]).astype(int) == test_y).sum() / float(len(test_y))"
   ]
  },
  {
   "cell_type": "code",
   "execution_count": 6,
   "metadata": {},
   "outputs": [],
   "source": [
    "from src.model import Model\n",
    "from src.cost import LogSoftmax\n",
    "from src.activation import Identity"
   ]
  },
  {
   "cell_type": "code",
   "execution_count": 12,
   "metadata": {},
   "outputs": [],
   "source": [
    "# build model\n",
    "m = Model(learning_rate=.12, cost=LogSoftmax).layer(28*28).layer(20).layer(20).layer(2, Identity)"
   ]
  },
  {
   "cell_type": "code",
   "execution_count": 13,
   "metadata": {},
   "outputs": [],
   "source": [
    "# repeating data set (because I don't have enough)\n",
    "xx = train_x*10\n",
    "yy = train_y_1hot*10\n",
    "\n",
    "# collect cost and accuracy for plotting\n",
    "cost, accuracy = [], []"
   ]
  },
  {
   "cell_type": "code",
   "execution_count": 14,
   "metadata": {},
   "outputs": [
    {
     "name": "stdout",
     "output_type": "stream",
     "text": [
      "CPU times: user 37.9 s, sys: 13.2 s, total: 51.1 s\n",
      "Wall time: 25.9 s\n"
     ]
    }
   ],
   "source": [
    "%%time\n",
    "# train\n",
    "for i in range(len(xx)):\n",
    "    x, y = xx[i].transpose(), yy[i].transpose()\n",
    "    m.inference(x)\n",
    "    cost.append(m.get_cost(y))\n",
    "    m.back_prop(y)\n",
    "    accuracy.append(get_accuracy(m))"
   ]
  },
  {
   "cell_type": "code",
   "execution_count": 15,
   "metadata": {},
   "outputs": [
    {
     "data": {
      "image/png": "[encoded data removed]",
      "text/plain": [
       "<Figure size 432x288 with 1 Axes>"
      ]
     },
     "metadata": {
      "needs_background": "light"
     },
     "output_type": "display_data"
    },
    {
     "data": {
      "image/png": "[encoded data removed]",
      "text/plain": [
       "<Figure size 432x288 with 1 Axes>"
      ]
     },
     "metadata": {
      "needs_background": "light"
     },
     "output_type": "display_data"
    }
   ],
   "source": [
    "# plot cost and accuracy\n",
    "fig, ax = plt.subplots()\n",
    "ax.plot(np.linspace(0,1,len(cost)), np.array(cost))\n",
    "ax.set_title('cost')\n",
    "plt.show()\n",
    "fig, ax = plt.subplots()\n",
    "ax.plot(np.linspace(0,1,len(accuracy)), np.array(accuracy))\n",
    "ax.set_title('accuracy')\n",
    "plt.show()"
   ]
  },
  {
   "cell_type": "code",
   "execution_count": 16,
   "metadata": {},
   "outputs": [
    {
     "data": {
      "image/png": "[encoded data removed]",
      "text/plain": [
       "<Figure size 432x288 with 10 Axes>"
      ]
     },
     "metadata": {
      "needs_background": "light"
     },
     "output_type": "display_data"
    }
   ],
   "source": [
    "# randomly pick some test data points to give some intuitive proof\n",
    "n = 10\n",
    "random_pick = test_x[np.random.choice(np.arange(test_x.shape[0]), n)]\n",
    "result = m.inference(random_pick.transpose())\n",
    "fig, axs = plt.subplots(1, n)\n",
    "for i in range(n):\n",
    "    # use prediction as title\n",
    "    axs[i].set_title('{}'.format(4 if result[0][i] > result[1][i] else 9))\n",
    "    axs[i].imshow(random_pick[i].reshape((28, 28)))\n",
    "plt.show()"
   ]
  },
  {
   "cell_type": "code",
   "execution_count": null,
   "metadata": {},
   "outputs": [],
   "source": []
  }
 ],
 "metadata": {
  "kernelspec": {
   "display_name": "Python 3",
   "language": "python",
   "name": "python3"
  },
  "language_info": {
   "codemirror_mode": {
    "name": "ipython",
    "version": 3
   },
   "file_extension": ".py",
   "mimetype": "text/x-python",
   "name": "python",
   "nbconvert_exporter": "python",
   "pygments_lexer": "ipython3",
   "version": "3.8.5"
  }
 },
 "nbformat": 4,
 "nbformat_minor": 2
}
